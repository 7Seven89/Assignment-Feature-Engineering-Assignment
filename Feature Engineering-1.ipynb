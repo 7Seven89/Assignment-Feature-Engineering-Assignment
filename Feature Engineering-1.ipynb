{
 "cells": [
  {
   "cell_type": "markdown",
   "id": "ff19fcd8-d1ea-4fc2-8aff-85ed9ec7e2eb",
   "metadata": {},
   "source": [
    "### Q1: What are missing values in a dataset? Why is it essential to handle missing values? Name some algorithms that are not affected by missing values.\n",
    "\n",
    "**Missing values** in a dataset are the instances where data is not available or recorded for one or more features. Handling missing values is essential because they can lead to biased results, reduced statistical power, and misleading conclusions. If not addressed, algorithms may fail or produce inaccurate predictions.\n",
    "\n",
    "**Algorithms not affected by missing values**:\n",
    "- Decision Trees\n",
    "- Random Forests\n",
    "- k-Nearest Neighbors (k-NN)"
   ]
  },
  {
   "cell_type": "markdown",
   "id": "b2854ef7-7351-4bac-83b3-b3a3e6d8c4c5",
   "metadata": {},
   "source": []
  },
  {
   "cell_type": "markdown",
   "id": "15392235-28d2-4296-b3a0-548281c62145",
   "metadata": {},
   "source": [
    "### Q2: List down techniques used to handle missing data. Give an example of each with python code.\n",
    "\n",
    "1. **Removing Rows**: Delete rows with missing values.\n",
    "   ```python\n",
    "   import pandas as pd\n",
    "\n",
    "   df = pd.DataFrame({'A': [1, 2, None], 'B': [4, None, 6]})\n",
    "   df_cleaned = df.dropna()\n",
    "\n",
    "2. **Mean/Median/Mode Imputation**: Replace missing values with the mean, median, or mode.\n",
    "    ```python\n",
    "    df['A'].fillna(df['A'].mean(), inplace=True)\n",
    "\n",
    "3. Forward/Backward Fill: Use the next or previous value to fill missing data.\n",
    "    ``` python\n",
    "    df.fillna(method='ffill', inplace=True)  # Forward fill\n",
    "\n",
    "4. Interpolation: Estimate missing values based on other data points.\n",
    "    ```python\n",
    "    df['A'].interpolate(method='linear', inplace=True)"
   ]
  },
  {
   "cell_type": "markdown",
   "id": "1143bd49-fcce-463e-8759-6034419c41c8",
   "metadata": {},
   "source": []
  },
  {
   "cell_type": "markdown",
   "id": "43827f1e-92d8-4077-9f25-baee65a1b56a",
   "metadata": {},
   "source": [
    "### Q3: Explain imbalanced data. What will happen if imbalanced data is not handled?\n",
    "\n",
    "**Imbalanced data** refers to a situation in a dataset where the classes are not represented equally. For instance, in a binary classification problem, one class may have significantly more instances than the other (e.g., 95% of data points belong to class A and only 5% to class B).\n",
    "\n",
    "**Consequences of not handling imbalanced data**:\n",
    "- **Poor Model Performance**: The model may achieve high accuracy by simply predicting the majority class, neglecting the minority class, which can lead to misleading performance metrics.\n",
    "- **Bias in Predictions**: The model may become biased toward the majority class, resulting in poor recall or precision for the minority class.\n",
    "- **Missed Opportunities**: In applications like fraud detection or disease diagnosis, failing to identify minority class instances can lead to significant negative impacts."
   ]
  },
  {
   "cell_type": "markdown",
   "id": "71129acf-e30d-4d91-8b95-ff93eaecd479",
   "metadata": {},
   "source": []
  },
  {
   "cell_type": "markdown",
   "id": "e695e6a9-72fb-46c5-873d-b2995e7bfec0",
   "metadata": {},
   "source": [
    "### Q4: What are Up-sampling and Down-sampling? Explain with an example when up-sampling and down-sampling are required.\n",
    "\n",
    "**Up-sampling**: This technique involves increasing the number of instances in the minority class by duplicating existing examples or generating new synthetic examples. It is used when the minority class is underrepresented.\n",
    "\n",
    "**Example of Up-sampling**: In a dataset with 1000 instances of class A (majority) and 100 instances of class B (minority), you might create additional synthetic instances of class B until both classes have the same number of instances.\n",
    "\n",
    "**Down-sampling**: This technique involves reducing the number of instances in the majority class to balance the class distribution. It is used when the majority class significantly overshadows the minority class.\n",
    "\n",
    "**Example of Down-sampling**: Using the same dataset, you might randomly select 100 instances from class A so that both classes have an equal number of instances (100 each)."
   ]
  },
  {
   "cell_type": "markdown",
   "id": "79f53f00-6c45-4bc6-87a2-93abe6b77929",
   "metadata": {},
   "source": []
  },
  {
   "cell_type": "markdown",
   "id": "251bf8c5-aee4-45d2-810b-bf1cf2adac3f",
   "metadata": {},
   "source": [
    "### Q5: What is data augmentation? Explain SMOTE.\n",
    "\n",
    "**Data Augmentation** refers to techniques used to increase the diversity of training data without collecting new data. It is commonly used in image processing but can be applied in other contexts as well.\n",
    "\n",
    "**SMOTE (Synthetic Minority Over-sampling Technique)**: This is a specific method of data augmentation for imbalanced datasets. It works by generating synthetic instances of the minority class by interpolating between existing minority class instances.\n",
    "\n",
    "**Example of SMOTE**: If you have two minority class instances, SMOTE will create new instances that are linear combinations of these instances, thereby increasing the minority class's representation in the dataset."
   ]
  },
  {
   "cell_type": "markdown",
   "id": "fe25e7fd-3c81-4305-bacf-88a5ba6776a5",
   "metadata": {},
   "source": []
  },
  {
   "cell_type": "markdown",
   "id": "33f6f99f-4f20-41dd-aed0-edb18c5359db",
   "metadata": {},
   "source": [
    "### Q6: What are outliers in a dataset? Why is it essential to handle outliers?\n",
    "\n",
    "**Outliers** are data points that differ significantly from other observations in the dataset. They can arise due to variability in the data, measurement errors, or may indicate a novel or significant occurrence.\n",
    "\n",
    "**Importance of handling outliers**:\n",
    "- **Distortion of Statistical Analysis**: Outliers can skew results and affect the mean, standard deviation, and other statistical measures.\n",
    "- **Model Performance**: Outliers can negatively impact model training, leading to poor generalization and performance.\n",
    "- **Data Quality**: Identifying and understanding outliers can provide insights into data quality and the underlying processes generating the data."
   ]
  },
  {
   "cell_type": "markdown",
   "id": "c911ced1-2c98-4fcf-9923-1d617c4048fc",
   "metadata": {},
   "source": []
  },
  {
   "cell_type": "markdown",
   "id": "9887b6d9-ceda-4ab4-9e09-e045909d43d7",
   "metadata": {},
   "source": [
    "### Q7: You are working on a project that requires analyzing customer data. However, you notice that some of the data is missing. What are some techniques you can use to handle the missing data in your analysis?\n",
    "\n",
    "**Techniques to handle missing data**:\n",
    "- **Imputation**: Replace missing values with statistical estimates such as mean, median, or mode, or use more sophisticated methods like K-Nearest Neighbors (KNN) imputation.\n",
    "- **Removal**: Exclude instances with missing values from the analysis, though this can lead to loss of valuable information.\n",
    "- **Prediction Models**: Use models to predict and fill in missing values based on other available features.\n",
    "- **Flagging**: Create a binary indicator variable to flag missing values, retaining the instances while noting the missing data."
   ]
  },
  {
   "cell_type": "markdown",
   "id": "9f1bdde1-9de5-4f40-af07-2cacdfe4ab51",
   "metadata": {},
   "source": []
  },
  {
   "cell_type": "markdown",
   "id": "4bb24c5d-5d98-4b0a-9f87-d2d88c72c00e",
   "metadata": {},
   "source": [
    "### Q8: You are working with a large dataset and find that a small percentage of the data is missing. What are some strategies you can use to determine if the missing data is missing at random or if there is a pattern to the missing data?\n",
    "\n",
    "**Strategies to determine missing data patterns**:\n",
    "- **Visual Analysis**: Use visualizations (e.g., heatmaps) to assess the missing data distribution and identify any patterns.\n",
    "- **Statistical Tests**: Conduct statistical tests (e.g., Little's MCAR test) to evaluate if the missingness is completely at random (MCAR), at random (MAR), or not at random (MNAR).\n",
    "- **Correlation Analysis**: Check if the presence of missing values correlates with other variables in the dataset to identify potential relationships."
   ]
  },
  {
   "cell_type": "markdown",
   "id": "e08b4d86-2f7c-401e-a3f4-7c7a8c6178f9",
   "metadata": {},
   "source": []
  },
  {
   "cell_type": "markdown",
   "id": "f762a96e-0c0d-444c-9bb2-3dea007fcf2b",
   "metadata": {},
   "source": [
    "### Q9: Suppose you are working on a medical diagnosis project and find that the majority of patients in the dataset do not have the condition of interest, while a small percentage do. What are some strategies you can use to evaluate the performance of your machine learning model on this imbalanced dataset?\n",
    "\n",
    "**Strategies to evaluate model performance**:\n",
    "- **Confusion Matrix**: Use a confusion matrix to assess true positives, false positives, true negatives, and false negatives, providing a comprehensive view of performance.\n",
    "- **Precision, Recall, F1-Score**: Focus on metrics like precision, recall, and F1-score, which give a better understanding of model performance on the minority class.\n",
    "- **ROC-AUC Curve**: Evaluate the receiver operating characteristic (ROC) curve and calculate the area under the curve (AUC) to assess the model's ability to discriminate between classes.\n",
    "- **Stratified Cross-Validation**: Use stratified k-fold cross-validation to ensure that each fold maintains the same class distribution as the overall dataset."
   ]
  },
  {
   "cell_type": "markdown",
   "id": "e5ed4fd8-70f3-4059-beb6-182c42f36b6a",
   "metadata": {},
   "source": []
  },
  {
   "cell_type": "markdown",
   "id": "8bbfa291-8b9f-4fb1-badf-aa416770c964",
   "metadata": {},
   "source": [
    "### Q10: When attempting to estimate customer satisfaction for a project, you discover that the dataset is unbalanced, with the bulk of customers reporting being satisfied. What methods can you employ to balance the dataset and down-sample the majority class?\n",
    "\n",
    "**Methods to balance the dataset**:\n",
    "- **Random Down-sampling**: Randomly remove instances from the satisfied class until the class distribution is more balanced.\n",
    "- **Cluster-based Down-sampling**: Use clustering techniques to identify representative instances in the majority class and keep only those for training.\n",
    "- **Ensemble Methods**: Use ensemble techniques such as bagging and boosting, which can improve performance on unbalanced datasets without explicitly balancing the classes."
   ]
  },
  {
   "cell_type": "markdown",
   "id": "67a71acc-02a6-42f5-92b7-01a512ec558b",
   "metadata": {},
   "source": []
  },
  {
   "cell_type": "markdown",
   "id": "bbc052de-0eb4-49b4-8a61-b6f5c8ba8e6d",
   "metadata": {},
   "source": [
    "### Q11: You discover that the dataset is unbalanced with a low percentage of occurrences while working on a project that requires you to estimate the occurrence of a rare event. What methods can you employ to balance the dataset and up-sample the minority class?\n",
    "\n",
    "**Methods to balance the dataset**:\n",
    "- **Up-sampling the Minority Class**: Duplicate existing instances or generate synthetic instances (e.g., using SMOTE) of the minority class to increase its representation.\n",
    "- **Data Augmentation**: Apply transformations to existing minority class instances to create new synthetic examples.\n",
    "- **Cost-sensitive Learning**: Adjust the algorithm to pay more attention to the minority class by applying higher weights to misclassified instances of the minority class.\n",
    "- **Anomaly Detection Models**: Consider using specialized models designed for anomaly detection, which are more sensitive to minority class instances."
   ]
  },
  {
   "cell_type": "markdown",
   "id": "30e1ff36-b6fb-4f0d-8997-0d26af48f070",
   "metadata": {},
   "source": []
  }
 ],
 "metadata": {
  "kernelspec": {
   "display_name": "Python 3 (ipykernel)",
   "language": "python",
   "name": "python3"
  },
  "language_info": {
   "codemirror_mode": {
    "name": "ipython",
    "version": 3
   },
   "file_extension": ".py",
   "mimetype": "text/x-python",
   "name": "python",
   "nbconvert_exporter": "python",
   "pygments_lexer": "ipython3",
   "version": "3.12.5"
  }
 },
 "nbformat": 4,
 "nbformat_minor": 5
}
